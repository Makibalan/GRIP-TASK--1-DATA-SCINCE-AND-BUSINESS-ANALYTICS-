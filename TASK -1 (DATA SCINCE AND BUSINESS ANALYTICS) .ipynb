{
 "cells": [
  {
   "cell_type": "markdown",
   "id": "78cb73fa-7b64-4dec-9ef0-69d087736bd8",
   "metadata": {},
   "source": [
    "<h1> <center> GRIP: SPARK FOUNDATION<\\center></h1>\n",
    "    \n",
    "        \n"
   ]
  },
  {
   "cell_type": "markdown",
   "id": "64374432-1675-4a62-9a14-d3b172bc9a12",
   "metadata": {},
   "source": [
    "<h2><center> Data Science and Business Analytics Internship</center></h2>"
   ]
  },
  {
   "cell_type": "markdown",
   "id": "509c001e-c8c7-40fb-96f3-a8fbf4e9c8a6",
   "metadata": {},
   "source": [
    "<h2>TASK1:Prediction using Supervised Machine Learning </h2>\n"
   ]
  },
  {
   "cell_type": "markdown",
   "id": "3502bf42-4d03-4ab4-8bb4-18f43b0eb987",
   "metadata": {},
   "source": [
    "<h2> TASK OBJECTIVES:</h2>\n",
    "   <h3> ● Predict the percentage of an student based on the no. of study hours.</h3>\n",
    "       <h3>● What will be predicted score if a student studies for 9.25 hrs/ day?</h3>"
   ]
  },
  {
   "cell_type": "markdown",
   "id": "8cf0210b-1b12-40e8-9e79-7ec766484352",
   "metadata": {},
   "source": [
    "<h2> Submitted by:</h2>\n",
    "    <h4>NAME: S.MAKIBALAN</h4>\n",
    "        <h4>DEPARTMENT: ELECTRONICS AND COMMUNICATION ENGINEERING</h4>\n",
    "            "
   ]
  },
  {
   "cell_type": "markdown",
   "id": "b8f659a8-3e8f-4750-a27a-34e84aea9225",
   "metadata": {},
   "source": [
    "<h5> Lets get into the code....................</h5>"
   ]
  },
  {
   "cell_type": "code",
   "execution_count": 47,
   "id": "7ec53758-98e0-4db8-9fb8-fe38a9f498a1",
   "metadata": {},
   "outputs": [],
   "source": [
    "#importing the required libraries:\n",
    "import pandas as pd\n",
    "import numpy as np\n",
    "import matplotlib.pyplot as plt\n",
    "import seaborn as sns\n",
    "from sklearn.model_selection import train_test_split\n",
    "from sklearn.linear_model import LinearRegression\n",
    "from sklearn.metrics import mean_absolute_error"
   ]
  },
  {
   "cell_type": "code",
   "execution_count": 48,
   "id": "8a939c4c-6e31-4701-8dbc-d3efdcd0fa6f",
   "metadata": {},
   "outputs": [
    {
     "name": "stdout",
     "output_type": "stream",
     "text": [
      "Data Read successfully\n"
     ]
    },
    {
     "data": {
      "text/html": [
       "<div>\n",
       "<style scoped>\n",
       "    .dataframe tbody tr th:only-of-type {\n",
       "        vertical-align: middle;\n",
       "    }\n",
       "\n",
       "    .dataframe tbody tr th {\n",
       "        vertical-align: top;\n",
       "    }\n",
       "\n",
       "    .dataframe thead th {\n",
       "        text-align: right;\n",
       "    }\n",
       "</style>\n",
       "<table border=\"1\" class=\"dataframe\">\n",
       "  <thead>\n",
       "    <tr style=\"text-align: right;\">\n",
       "      <th></th>\n",
       "      <th>Hours</th>\n",
       "      <th>Scores</th>\n",
       "    </tr>\n",
       "  </thead>\n",
       "  <tbody>\n",
       "    <tr>\n",
       "      <th>0</th>\n",
       "      <td>2.5</td>\n",
       "      <td>21</td>\n",
       "    </tr>\n",
       "    <tr>\n",
       "      <th>1</th>\n",
       "      <td>5.1</td>\n",
       "      <td>47</td>\n",
       "    </tr>\n",
       "    <tr>\n",
       "      <th>2</th>\n",
       "      <td>3.2</td>\n",
       "      <td>27</td>\n",
       "    </tr>\n",
       "    <tr>\n",
       "      <th>3</th>\n",
       "      <td>8.5</td>\n",
       "      <td>75</td>\n",
       "    </tr>\n",
       "    <tr>\n",
       "      <th>4</th>\n",
       "      <td>3.5</td>\n",
       "      <td>30</td>\n",
       "    </tr>\n",
       "  </tbody>\n",
       "</table>\n",
       "</div>"
      ],
      "text/plain": [
       "   Hours  Scores\n",
       "0    2.5      21\n",
       "1    5.1      47\n",
       "2    3.2      27\n",
       "3    8.5      75\n",
       "4    3.5      30"
      ]
     },
     "execution_count": 48,
     "metadata": {},
     "output_type": "execute_result"
    }
   ],
   "source": [
    "#Reading the data\n",
    "data=pd.read_csv(\"http://bit.ly/w-data\")\n",
    "print(\"Data Read successfully\")\n",
    "data.head()"
   ]
  },
  {
   "cell_type": "code",
   "execution_count": 49,
   "id": "f4d732b9-4ee8-4ece-93cb-5009dfa5e28e",
   "metadata": {},
   "outputs": [
    {
     "data": {
      "text/plain": [
       "False"
      ]
     },
     "execution_count": 49,
     "metadata": {},
     "output_type": "execute_result"
    }
   ],
   "source": [
    "#Checking is there any null values in data\n",
    "data.isnull==True\n"
   ]
  },
  {
   "cell_type": "markdown",
   "id": "422f1dac-4ac3-412d-8eaa-992c346ef138",
   "metadata": {},
   "source": [
    "<h9> There is no null values in dataset</h9>"
   ]
  },
  {
   "cell_type": "code",
   "execution_count": 50,
   "id": "adfc127f-8180-4ddb-baf2-e33c6ef3528b",
   "metadata": {},
   "outputs": [
    {
     "data": {
      "image/png": "[encoded data removed]",
      "text/plain": [
       "<Figure size 432x288 with 1 Axes>"
      ]
     },
     "metadata": {},
     "output_type": "display_data"
    }
   ],
   "source": [
    "#plotting a scatter plot\n",
    "sns.set_style('darkgrid')\n",
    "sns.scatterplot(y=data['Scores'],x=data['Hours'])\n",
    "plt.title('Mark Vs Scores',size=20)\n",
    "plt.ylabel('Mark Percentage',size=15)\n",
    "plt.xlabel('Hours Studied',size=15)\n",
    "plt.show()"
   ]
  },
  {
   "cell_type": "markdown",
   "id": "b82b1ab5-006c-4baa-ab29-48e47ebdec17",
   "metadata": {},
   "source": [
    "<h4>From the graph above, we can clearly see that there is a positive linear relation between the number of hours studied and percentage of score.</h4>"
   ]
  },
  {
   "cell_type": "code",
   "execution_count": 51,
   "id": "6ed60a24-06b8-4baa-b592-e1e964cedc99",
   "metadata": {},
   "outputs": [
    {
     "data": {
      "image/png": "[encoded data removed]",
      "text/plain": [
       "<Figure size 432x288 with 1 Axes>"
      ]
     },
     "metadata": {},
     "output_type": "display_data"
    },
    {
     "name": "stdout",
     "output_type": "stream",
     "text": [
      "           Hours    Scores\n",
      "Hours   1.000000  0.976191\n",
      "Scores  0.976191  1.000000\n"
     ]
    }
   ],
   "source": [
    "#plotting the regression line\n",
    "sns.regplot(x= data['Hours'], y= data['Scores'])\n",
    "plt.title('Regression Plot',size=20)\n",
    "plt.ylabel('Marks Percentage', size=15)\n",
    "plt.xlabel('Hours Studied', size=15)\n",
    "plt.show()\n",
    "print(data.corr())"
   ]
  },
  {
   "cell_type": "markdown",
   "id": "cde82265-81a6-4a7a-9ead-f83d5e32b93f",
   "metadata": {},
   "source": [
    "<h3>Training the Model</h3>"
   ]
  },
  {
   "cell_type": "code",
   "execution_count": 52,
   "id": "c307bfdb-a765-4de0-87c8-107bc316b695",
   "metadata": {},
   "outputs": [],
   "source": [
    "x = data.iloc[:, :-1].values  \n",
    "y = data.iloc[:, 1].values"
   ]
  },
  {
   "cell_type": "markdown",
   "id": "d84a15c8-3880-471c-ae9e-494afcddd437",
   "metadata": {},
   "source": [
    "From the imported library sklearn lets split the data into two................."
   ]
  },
  {
   "cell_type": "code",
   "execution_count": 53,
   "id": "ee852659-6849-41ee-b2eb-8c1d12668508",
   "metadata": {},
   "outputs": [],
   "source": [
    "#Splitting the data\n",
    "train_x,val_x,train_y,val_y=train_test_split(x,y,random_state=0)"
   ]
  },
  {
   "cell_type": "code",
   "execution_count": 54,
   "id": "2b9c3cbf-b352-40df-be9c-5b0442b3a658",
   "metadata": {},
   "outputs": [
    {
     "name": "stdout",
     "output_type": "stream",
     "text": [
      "The Model is Trained\n"
     ]
    }
   ],
   "source": [
    "#Fitting dataset into model\n",
    "regression=LinearRegression()\n",
    "regression.fit(train_x,train_y)\n",
    "print(\"The Model is Trained\")"
   ]
  },
  {
   "cell_type": "markdown",
   "id": "f65598cf-1dd3-4d6d-a8e2-bd63d984693a",
   "metadata": {},
   "source": [
    "<h4>Predicting the Percentage of Marks</h4>"
   ]
  },
  {
   "cell_type": "code",
   "execution_count": 55,
   "id": "92041abd-ed04-4fb0-ab88-56b4ab1bcb8d",
   "metadata": {},
   "outputs": [
    {
     "data": {
      "text/html": [
       "<div>\n",
       "<style scoped>\n",
       "    .dataframe tbody tr th:only-of-type {\n",
       "        vertical-align: middle;\n",
       "    }\n",
       "\n",
       "    .dataframe tbody tr th {\n",
       "        vertical-align: top;\n",
       "    }\n",
       "\n",
       "    .dataframe thead th {\n",
       "        text-align: right;\n",
       "    }\n",
       "</style>\n",
       "<table border=\"1\" class=\"dataframe\">\n",
       "  <thead>\n",
       "    <tr style=\"text-align: right;\">\n",
       "      <th></th>\n",
       "      <th>Hours</th>\n",
       "      <th>Predicted Marks</th>\n",
       "    </tr>\n",
       "  </thead>\n",
       "  <tbody>\n",
       "    <tr>\n",
       "      <th>0</th>\n",
       "      <td>1.5</td>\n",
       "      <td>16.844722</td>\n",
       "    </tr>\n",
       "    <tr>\n",
       "      <th>1</th>\n",
       "      <td>3.2</td>\n",
       "      <td>33.745575</td>\n",
       "    </tr>\n",
       "    <tr>\n",
       "      <th>2</th>\n",
       "      <td>7.4</td>\n",
       "      <td>75.500624</td>\n",
       "    </tr>\n",
       "    <tr>\n",
       "      <th>3</th>\n",
       "      <td>2.5</td>\n",
       "      <td>26.786400</td>\n",
       "    </tr>\n",
       "    <tr>\n",
       "      <th>4</th>\n",
       "      <td>5.9</td>\n",
       "      <td>60.588106</td>\n",
       "    </tr>\n",
       "    <tr>\n",
       "      <th>5</th>\n",
       "      <td>3.8</td>\n",
       "      <td>39.710582</td>\n",
       "    </tr>\n",
       "    <tr>\n",
       "      <th>6</th>\n",
       "      <td>1.9</td>\n",
       "      <td>20.821393</td>\n",
       "    </tr>\n",
       "  </tbody>\n",
       "</table>\n",
       "</div>"
      ],
      "text/plain": [
       "   Hours  Predicted Marks\n",
       "0    1.5        16.844722\n",
       "1    3.2        33.745575\n",
       "2    7.4        75.500624\n",
       "3    2.5        26.786400\n",
       "4    5.9        60.588106\n",
       "5    3.8        39.710582\n",
       "6    1.9        20.821393"
      ]
     },
     "execution_count": 55,
     "metadata": {},
     "output_type": "execute_result"
    }
   ],
   "source": [
    "pred_y = regression.predict(val_x)\n",
    "prediction = pd.DataFrame({'Hours': [i[0] for i in val_x], 'Predicted Marks': [k for k in pred_y]})\n",
    "prediction"
   ]
  },
  {
   "cell_type": "code",
   "execution_count": 56,
   "id": "04db6a37-3099-489e-ae3c-9194cb331a6c",
   "metadata": {},
   "outputs": [
    {
     "data": {
      "text/html": [
       "<div>\n",
       "<style scoped>\n",
       "    .dataframe tbody tr th:only-of-type {\n",
       "        vertical-align: middle;\n",
       "    }\n",
       "\n",
       "    .dataframe tbody tr th {\n",
       "        vertical-align: top;\n",
       "    }\n",
       "\n",
       "    .dataframe thead th {\n",
       "        text-align: right;\n",
       "    }\n",
       "</style>\n",
       "<table border=\"1\" class=\"dataframe\">\n",
       "  <thead>\n",
       "    <tr style=\"text-align: right;\">\n",
       "      <th></th>\n",
       "      <th>Actual Marks</th>\n",
       "      <th>Predicted Marks</th>\n",
       "    </tr>\n",
       "  </thead>\n",
       "  <tbody>\n",
       "    <tr>\n",
       "      <th>0</th>\n",
       "      <td>20</td>\n",
       "      <td>16.844722</td>\n",
       "    </tr>\n",
       "    <tr>\n",
       "      <th>1</th>\n",
       "      <td>27</td>\n",
       "      <td>33.745575</td>\n",
       "    </tr>\n",
       "    <tr>\n",
       "      <th>2</th>\n",
       "      <td>69</td>\n",
       "      <td>75.500624</td>\n",
       "    </tr>\n",
       "    <tr>\n",
       "      <th>3</th>\n",
       "      <td>30</td>\n",
       "      <td>26.786400</td>\n",
       "    </tr>\n",
       "    <tr>\n",
       "      <th>4</th>\n",
       "      <td>62</td>\n",
       "      <td>60.588106</td>\n",
       "    </tr>\n",
       "    <tr>\n",
       "      <th>5</th>\n",
       "      <td>35</td>\n",
       "      <td>39.710582</td>\n",
       "    </tr>\n",
       "    <tr>\n",
       "      <th>6</th>\n",
       "      <td>24</td>\n",
       "      <td>20.821393</td>\n",
       "    </tr>\n",
       "  </tbody>\n",
       "</table>\n",
       "</div>"
      ],
      "text/plain": [
       "   Actual Marks  Predicted Marks\n",
       "0            20        16.844722\n",
       "1            27        33.745575\n",
       "2            69        75.500624\n",
       "3            30        26.786400\n",
       "4            62        60.588106\n",
       "5            35        39.710582\n",
       "6            24        20.821393"
      ]
     },
     "execution_count": 56,
     "metadata": {},
     "output_type": "execute_result"
    }
   ],
   "source": [
    "compare_scores = pd.DataFrame({'Actual Marks': val_y, 'Predicted Marks': pred_y})\n",
    "compare_scores"
   ]
  },
  {
   "cell_type": "markdown",
   "id": "7f4fa0c6-7f96-4443-a2ef-3d8f91e1789b",
   "metadata": {},
   "source": [
    "<h3>Comparing the Predicted Marks with the Actual Marks</h3>"
   ]
  },
  {
   "cell_type": "code",
   "execution_count": 57,
   "id": "49b42485-3c2e-4fcd-8ad8-7fc34f173d25",
   "metadata": {},
   "outputs": [
    {
     "data": {
      "image/png": "[encoded data removed]",
      "text/plain": [
       "<Figure size 432x288 with 1 Axes>"
      ]
     },
     "metadata": {},
     "output_type": "display_data"
    }
   ],
   "source": [
    "plt.scatter(x=val_x, y=val_y, color='blue')\n",
    "plt.plot(val_x, pred_y, color='Black')\n",
    "plt.title('Actual vs Predicted', size=20)\n",
    "plt.ylabel('Marks Percentage', size=15)\n",
    "plt.xlabel('Hours Studied', size=15)\n",
    "plt.show()"
   ]
  },
  {
   "cell_type": "markdown",
   "id": "849d2105-cce4-4cad-a8b9-763bfd59db68",
   "metadata": {},
   "source": [
    "<h3>Evaluating the Model</h3>"
   ]
  },
  {
   "cell_type": "code",
   "execution_count": 58,
   "id": "410557aa-0005-4849-b563-44d3950e359f",
   "metadata": {},
   "outputs": [
    {
     "name": "stdout",
     "output_type": "stream",
     "text": [
      "Mean absolute error:  4.130879918502486\n"
     ]
    }
   ],
   "source": [
    "# Calculating the accuracy of the model\n",
    "print('Mean absolute error: ',mean_absolute_error(val_y,pred_y))"
   ]
  },
  {
   "cell_type": "markdown",
   "id": "cba9fce2-01c2-41ec-8ce4-7403cb8a4ce7",
   "metadata": {},
   "source": [
    "<h5>Small value of Mean absolute error states that the chances of error or wrong forecasting through the model are very less."
   ]
  },
  {
   "cell_type": "markdown",
   "id": "d3f85e53-9362-4e7a-b8ff-ba32566caccf",
   "metadata": {},
   "source": [
    "<h2>What will be the predicted score of a student if he/she studies for 9.25 hrs/ day?</h2>"
   ]
  },
  {
   "cell_type": "code",
   "execution_count": 59,
   "id": "de055529-a1ac-4552-8722-c36c3d9f4171",
   "metadata": {},
   "outputs": [
    {
     "name": "stdout",
     "output_type": "stream",
     "text": [
      "Score =93.893 \n"
     ]
    }
   ],
   "source": [
    "hours = [9.25]\n",
    "answer = regression.predict([hours])\n",
    "print(\"Score ={} \".format(round(answer[0],3)))"
   ]
  },
  {
   "cell_type": "markdown",
   "id": "10338b41-f7f7-445a-876d-01ce894470a5",
   "metadata": {},
   "source": [
    "<h1>CONCLUSION:"
   ]
  },
  {
   "cell_type": "markdown",
   "id": "1fb500ed-5684-4667-83cd-7580f543a7da",
   "metadata": {},
   "source": [
    "<h2>According to the regression model if a student studies for 9.25 hours a day he/she is likely to score 93.893 marks."
   ]
  },
  {
   "cell_type": "code",
   "execution_count": null,
   "id": "5804b2bf-db02-4eda-bac8-513a9d98302f",
   "metadata": {},
   "outputs": [],
   "source": []
  }
 ],
 "metadata": {
  "kernelspec": {
   "display_name": "Python 3",
   "language": "python",
   "name": "python3"
  },
  "language_info": {
   "codemirror_mode": {
    "name": "ipython",
    "version": 3
   },
   "file_extension": ".py",
   "mimetype": "text/x-python",
   "name": "python",
   "nbconvert_exporter": "python",
   "pygments_lexer": "ipython3",
   "version": "3.8.8"
  }
 },
 "nbformat": 4,
 "nbformat_minor": 5
}
